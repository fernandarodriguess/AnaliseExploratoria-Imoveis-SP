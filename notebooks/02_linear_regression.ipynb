{
 "cells": [
  {
   "cell_type": "code",
   "execution_count": 10,
   "metadata": {},
   "outputs": [],
   "source": [
    "import sys\n",
    "import os\n",
    "import pandas as pd\n",
    "from sklearn.model_selection import train_test_split\n",
    "from sklearn.linear_model import LinearRegression\n",
    "from sklearn.metrics import mean_absolute_error, mean_squared_error, r2_score\n",
    "import joblib\n",
    "import numpy as np"
   ]
  },
  {
   "cell_type": "code",
   "execution_count": 11,
   "metadata": {},
   "outputs": [],
   "source": [
    "# Adiciona o diretório raiz do projeto ao sys.path\n",
    "project_path = os.path.abspath(os.path.join(os.getcwd(), '..'))\n",
    "if project_path not in sys.path:\n",
    "    sys.path.append(project_path)"
   ]
  },
  {
   "cell_type": "code",
   "execution_count": 13,
   "metadata": {},
   "outputs": [],
   "source": [
    "from src.modeling import split_data, train_model, evaluate_model, save_metrics, predicted_rent"
   ]
  },
  {
   "cell_type": "code",
   "execution_count": 16,
   "metadata": {},
   "outputs": [
    {
     "name": "stdout",
     "output_type": "stream",
     "text": [
      "Métricas do modelo: {'MAE': 1101.9690016775614, 'RMSE': np.float64(1640.832359474773), 'R2': 0.5704544972983068}\n",
      "Métricas salvas em ../src/metrics.txt\n"
     ]
    }
   ],
   "source": [
    "df = pd.read_csv('../data/processed/dataset_imoveis_sp_clean.csv')\n",
    "\n",
    "X_train, X_test, y_train, y_test = split_data(df, target='rent')  # Ajuste o nome da coluna 'rent', se necessário\n",
    "\n",
    "# Treinar o modelo\n",
    "model = train_model(X_train, y_train, model_type='ridge')  # Usando regularização Ridge\n",
    "\n",
    "# Avaliar o modelo\n",
    "metrics = evaluate_model(model, X_test, y_test)\n",
    "print(\"Métricas do modelo:\", metrics)\n",
    "\n",
    "# Salvar o modelo treinado\n",
    "joblib.dump(model, '../outputs/linear_regression_model.pkl')\n",
    "\n",
    "# Caminho para salvar as métricas\n",
    "metrics_path = '../src/metrics.txt'  # Certifique-se de que o diretório 'src' tenha permissões para escrita\n",
    "\n",
    "# Salvar as métricas no arquivo de texto\n",
    "save_metrics(metrics, metrics_path)\n",
    "print(f\"Métricas salvas em {metrics_path}\")\n"
   ]
  },
  {
   "cell_type": "code",
   "execution_count": 15,
   "metadata": {},
   "outputs": [
    {
     "name": "stdout",
     "output_type": "stream",
     "text": [
      "Previsões dos aluguéis (arredondadas):\n",
      "Propriedade 1: R$ 7688.90\n",
      "Propriedade 2: R$ 1888.81\n",
      "Propriedade 3: R$ 5639.20\n"
     ]
    }
   ],
   "source": [
    "model = joblib.load('../outputs/linear_regression_model.pkl')  # Ajuste o caminho se necessário\n",
    "\n",
    "new_data = pd.DataFrame({\n",
    "    'area': [200, 80, 120],\n",
    "    'bedrooms': [2, 2, 3],\n",
    "    'garage': [3, 1, 2],\n",
    "    'zone_Centro': [1, 0, 0],\n",
    "    'zone_Leste': [0, 0, 0],\n",
    "    'zone_Norte': [0, 1, 0],\n",
    "    'zone_Oeste': [0, 0, 1],\n",
    "    'zone_Sul': [0, 0, 0],\n",
    "    'type_Apartamento': [1, 0, 0],\n",
    "    'type_Casa': [0, 1, 0],\n",
    "    'type_Casa em condomínio': [0, 0, 1],\n",
    "    'type_Studio e kitnet': [0, 0, 0],\n",
    "})\n",
    "\n",
    "predictions = predicted_rent(model, new_data)\n",
    "\n",
    "# Arredondar as previsões para 2 casas decimais\n",
    "rounded_predictions = np.round(predictions, 2)\n",
    "\n",
    "# Exibir as previsões arredondadas\n",
    "print(\"Previsões dos aluguéis (arredondadas):\")\n",
    "for i, prediction in enumerate(rounded_predictions):\n",
    "    print(f\"Propriedade {i+1}: R$ {prediction:.2f}\")\n"
   ]
  }
 ],
 "metadata": {
  "kernelspec": {
   "display_name": "Python 3",
   "language": "python",
   "name": "python3"
  },
  "language_info": {
   "codemirror_mode": {
    "name": "ipython",
    "version": 3
   },
   "file_extension": ".py",
   "mimetype": "text/x-python",
   "name": "python",
   "nbconvert_exporter": "python",
   "pygments_lexer": "ipython3",
   "version": "3.12.0"
  }
 },
 "nbformat": 4,
 "nbformat_minor": 2
}
