{
 "cells": [
  {
   "cell_type": "code",
   "execution_count": null,
   "metadata": {
    "vscode": {
     "languageId": "plaintext"
    }
   },
   "outputs": [],
   "source": [
    "LinearRegression-ML-Imoveis-SaoPaulo/\n",
    "│\n",
    "├── data/                              # Dados do projeto\n",
    "│   ├── raw/                           # Dados originais (não processados)\n",
    "│   │   └── dataset_imoveis_sp.csv     # Arquivo bruto do dataset\n",
    "│   ├── processed/                     # Dados prontos (tratados e limpos)\n",
    "│       └── dataset_imoveis_sp_clean.csv     # Dados finais prontos para análise\n",
    "│\n",
    "├── notebooks/               # Notebooks\n",
    "│   ├── 01_data_exploration.ipynb  # Análise exloratória\n",
    "│   ├── 02_linear_regression.ipynb # Modelo de regressão linear\n",
    "│\n",
    "├── src/                     # Scripts auxiliares (usado para funções)\n",
    "│   ├── data_cleaning.py     # Funções para limpeza de dados\n",
    "│   ├── visualizations.py    # Funções para gráficos\n",
    "│   ├── modeling.py          # Funções para treinar o modelo\n",
    "│\n",
    "├── outputs/                 # Resultados e saídas do modelo\n",
    "│   ├── charts/              # Gráficos gerados durante o projeto\n",
    "│   └── metrics.txt          # Métricas do modelo\n",
    "│\n",
    "└── README.md                # Documentação do projeto"
   ]
  }
 ],
 "metadata": {
  "language_info": {
   "name": "python"
  }
 },
 "nbformat": 4,
 "nbformat_minor": 2
}
