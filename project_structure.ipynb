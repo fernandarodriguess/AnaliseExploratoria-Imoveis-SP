{
 "cells": [
  {
   "cell_type": "code",
   "execution_count": null,
   "metadata": {
    "vscode": {
     "languageId": "plaintext"
    }
   },
   "outputs": [],
   "source": [
    "housing-sp-regression/\n",
    "│\n",
    "├── data/                    # Dados do projeto\n",
    "│   ├── raw/                 # Dados originais (não processados)\n",
    "│   │   └── dataset_imoveis_sp.csv   # Arquivo bruto do dataset\n",
    "│   ├── processed/           # Dados processados (após limpeza/tratamento)\n",
    "│       └── dataset_imoveis_sp_clean.csv\n",
    "│\n",
    "├── notebooks/               # Notebooks\n",
    "│   ├── data_exploration.ipynb  # Análise exloratória\n",
    "│   ├── linear_regression.ipynb # Modelo de regressão linear\n",
    "│\n",
    "├── src/                     # Scripts auxiliares (usado para funções)\n",
    "│   ├── data_cleaning.py     # Funções para limpeza de dados\n",
    "│   ├── visualizations.py    # Funções para gráficos\n",
    "│   ├── modeling.py          # Funções para treinar o modelo\n",
    "│\n",
    "├── outputs/                 # Resultados e saídas do modelo\n",
    "│   ├── charts/              # Gráficos gerados durante o projeto\n",
    "│   └── metrics.txt          # Métricas do modelo\n",
    "│\n",
    "└── README.md                # Documentação do projeto"
   ]
  }
 ],
 "metadata": {
  "language_info": {
   "name": "python"
  }
 },
 "nbformat": 4,
 "nbformat_minor": 2
}
